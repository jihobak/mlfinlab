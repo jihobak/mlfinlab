{
 "cells": [
  {
   "cell_type": "markdown",
   "metadata": {},
   "source": [
    "# Sampling and Weight"
   ]
  },
  {
   "cell_type": "markdown",
   "metadata": {},
   "source": [
    "Let's make the label of the return of the stock from Monday to Friday and the return from Wednesday to Friday that week. The label is the sign of the return. Then the information used to make these two labels has overlapping parts from Wednesday to Friday. As such, there is an overlapping label problem with financial data. we can address the problem of non-IID labels by designing sampling and weighting schemes."
   ]
  },
  {
   "cell_type": "code",
   "execution_count": 1,
   "metadata": {},
   "outputs": [
    {
     "name": "stdout",
     "output_type": "stream",
     "text": []
    }
   ],
   "source": [
    "import mlfinlab as ml\n",
    "\n",
    "import numpy as np\n",
    "import pandas as pd"
   ]
  },
  {
   "cell_type": "code",
   "execution_count": 2,
   "metadata": {},
   "outputs": [
    {
     "data": {
      "text/html": [
       "<div>\n",
       "<style scoped>\n",
       "    .dataframe tbody tr th:only-of-type {\n",
       "        vertical-align: middle;\n",
       "    }\n",
       "\n",
       "    .dataframe tbody tr th {\n",
       "        vertical-align: top;\n",
       "    }\n",
       "\n",
       "    .dataframe thead th {\n",
       "        text-align: right;\n",
       "    }\n",
       "</style>\n",
       "<table border=\"1\" class=\"dataframe\">\n",
       "  <thead>\n",
       "    <tr style=\"text-align: right;\">\n",
       "      <th></th>\n",
       "      <th>open</th>\n",
       "      <th>high</th>\n",
       "      <th>low</th>\n",
       "      <th>close</th>\n",
       "      <th>cum_vol</th>\n",
       "      <th>cum_dollar</th>\n",
       "      <th>cum_ticks</th>\n",
       "    </tr>\n",
       "    <tr>\n",
       "      <th>date_time</th>\n",
       "      <th></th>\n",
       "      <th></th>\n",
       "      <th></th>\n",
       "      <th></th>\n",
       "      <th></th>\n",
       "      <th></th>\n",
       "      <th></th>\n",
       "    </tr>\n",
       "  </thead>\n",
       "  <tbody>\n",
       "    <tr>\n",
       "      <th>2011-07-31 23:31:58.810</th>\n",
       "      <td>1306.00</td>\n",
       "      <td>1308.75</td>\n",
       "      <td>1301.75</td>\n",
       "      <td>1305.75</td>\n",
       "      <td>53658</td>\n",
       "      <td>70035704.75</td>\n",
       "      <td>14115</td>\n",
       "    </tr>\n",
       "    <tr>\n",
       "      <th>2011-08-01 02:55:17.443</th>\n",
       "      <td>1305.75</td>\n",
       "      <td>1309.50</td>\n",
       "      <td>1304.00</td>\n",
       "      <td>1306.50</td>\n",
       "      <td>53552</td>\n",
       "      <td>70006277.00</td>\n",
       "      <td>15422</td>\n",
       "    </tr>\n",
       "    <tr>\n",
       "      <th>2011-08-01 07:25:56.319</th>\n",
       "      <td>1306.75</td>\n",
       "      <td>1309.75</td>\n",
       "      <td>1304.75</td>\n",
       "      <td>1305.00</td>\n",
       "      <td>53543</td>\n",
       "      <td>70000901.00</td>\n",
       "      <td>14727</td>\n",
       "    </tr>\n",
       "    <tr>\n",
       "      <th>2011-08-01 08:33:10.903</th>\n",
       "      <td>1305.00</td>\n",
       "      <td>1305.00</td>\n",
       "      <td>1299.00</td>\n",
       "      <td>1300.00</td>\n",
       "      <td>53830</td>\n",
       "      <td>70094217.75</td>\n",
       "      <td>14987</td>\n",
       "    </tr>\n",
       "    <tr>\n",
       "      <th>2011-08-01 10:51:41.842</th>\n",
       "      <td>1300.00</td>\n",
       "      <td>1307.75</td>\n",
       "      <td>1299.00</td>\n",
       "      <td>1307.75</td>\n",
       "      <td>53734</td>\n",
       "      <td>70033006.25</td>\n",
       "      <td>14499</td>\n",
       "    </tr>\n",
       "    <tr>\n",
       "      <th>...</th>\n",
       "      <td>...</td>\n",
       "      <td>...</td>\n",
       "      <td>...</td>\n",
       "      <td>...</td>\n",
       "      <td>...</td>\n",
       "      <td>...</td>\n",
       "      <td>...</td>\n",
       "    </tr>\n",
       "    <tr>\n",
       "      <th>2012-07-30 12:30:28.642</th>\n",
       "      <td>1379.25</td>\n",
       "      <td>1380.00</td>\n",
       "      <td>1377.50</td>\n",
       "      <td>1377.75</td>\n",
       "      <td>50843</td>\n",
       "      <td>70116589.50</td>\n",
       "      <td>17923</td>\n",
       "    </tr>\n",
       "    <tr>\n",
       "      <th>2012-07-30 13:29:21.258</th>\n",
       "      <td>1377.75</td>\n",
       "      <td>1380.00</td>\n",
       "      <td>1377.00</td>\n",
       "      <td>1379.25</td>\n",
       "      <td>50782</td>\n",
       "      <td>70014483.25</td>\n",
       "      <td>14040</td>\n",
       "    </tr>\n",
       "    <tr>\n",
       "      <th>2012-07-30 13:35:05.407</th>\n",
       "      <td>1379.25</td>\n",
       "      <td>1383.25</td>\n",
       "      <td>1379.00</td>\n",
       "      <td>1382.50</td>\n",
       "      <td>50675</td>\n",
       "      <td>70001889.25</td>\n",
       "      <td>12017</td>\n",
       "    </tr>\n",
       "    <tr>\n",
       "      <th>2012-07-30 13:43:43.711</th>\n",
       "      <td>1382.50</td>\n",
       "      <td>1383.25</td>\n",
       "      <td>1380.00</td>\n",
       "      <td>1381.00</td>\n",
       "      <td>50667</td>\n",
       "      <td>70002243.75</td>\n",
       "      <td>13904</td>\n",
       "    </tr>\n",
       "    <tr>\n",
       "      <th>2012-07-30 13:54:26.158</th>\n",
       "      <td>1380.75</td>\n",
       "      <td>1381.75</td>\n",
       "      <td>1379.75</td>\n",
       "      <td>1380.75</td>\n",
       "      <td>50698</td>\n",
       "      <td>70007575.25</td>\n",
       "      <td>12706</td>\n",
       "    </tr>\n",
       "  </tbody>\n",
       "</table>\n",
       "<p>10000 rows × 7 columns</p>\n",
       "</div>"
      ],
      "text/plain": [
       "                            open     high      low    close  cum_vol  \\\n",
       "date_time                                                              \n",
       "2011-07-31 23:31:58.810  1306.00  1308.75  1301.75  1305.75    53658   \n",
       "2011-08-01 02:55:17.443  1305.75  1309.50  1304.00  1306.50    53552   \n",
       "2011-08-01 07:25:56.319  1306.75  1309.75  1304.75  1305.00    53543   \n",
       "2011-08-01 08:33:10.903  1305.00  1305.00  1299.00  1300.00    53830   \n",
       "2011-08-01 10:51:41.842  1300.00  1307.75  1299.00  1307.75    53734   \n",
       "...                          ...      ...      ...      ...      ...   \n",
       "2012-07-30 12:30:28.642  1379.25  1380.00  1377.50  1377.75    50843   \n",
       "2012-07-30 13:29:21.258  1377.75  1380.00  1377.00  1379.25    50782   \n",
       "2012-07-30 13:35:05.407  1379.25  1383.25  1379.00  1382.50    50675   \n",
       "2012-07-30 13:43:43.711  1382.50  1383.25  1380.00  1381.00    50667   \n",
       "2012-07-30 13:54:26.158  1380.75  1381.75  1379.75  1380.75    50698   \n",
       "\n",
       "                          cum_dollar  cum_ticks  \n",
       "date_time                                        \n",
       "2011-07-31 23:31:58.810  70035704.75      14115  \n",
       "2011-08-01 02:55:17.443  70006277.00      15422  \n",
       "2011-08-01 07:25:56.319  70000901.00      14727  \n",
       "2011-08-01 08:33:10.903  70094217.75      14987  \n",
       "2011-08-01 10:51:41.842  70033006.25      14499  \n",
       "...                              ...        ...  \n",
       "2012-07-30 12:30:28.642  70116589.50      17923  \n",
       "2012-07-30 13:29:21.258  70014483.25      14040  \n",
       "2012-07-30 13:35:05.407  70001889.25      12017  \n",
       "2012-07-30 13:43:43.711  70002243.75      13904  \n",
       "2012-07-30 13:54:26.158  70007575.25      12706  \n",
       "\n",
       "[10000 rows x 7 columns]"
      ]
     },
     "execution_count": 2,
     "metadata": {},
     "output_type": "execute_result"
    }
   ],
   "source": [
    "dollar_bars = pd.read_csv('sample_dollar_bars.csv', nrows=40000)\n",
    "dollar_bars"
   ]
  },
  {
   "cell_type": "code",
   "execution_count": 3,
   "metadata": {},
   "outputs": [
    {
     "data": {
      "text/html": [
       "<div>\n",
       "<style scoped>\n",
       "    .dataframe tbody tr th:only-of-type {\n",
       "        vertical-align: middle;\n",
       "    }\n",
       "\n",
       "    .dataframe tbody tr th {\n",
       "        vertical-align: top;\n",
       "    }\n",
       "\n",
       "    .dataframe thead th {\n",
       "        text-align: right;\n",
       "    }\n",
       "</style>\n",
       "<table border=\"1\" class=\"dataframe\">\n",
       "  <thead>\n",
       "    <tr style=\"text-align: right;\">\n",
       "      <th></th>\n",
       "      <th>t1</th>\n",
       "    </tr>\n",
       "  </thead>\n",
       "  <tbody>\n",
       "    <tr>\n",
       "      <th>2011-08-04 01:57:00.466</th>\n",
       "      <td>2011-08-04 10:27:24.326000128</td>\n",
       "    </tr>\n",
       "    <tr>\n",
       "      <th>2011-08-04 09:53:01.844</th>\n",
       "      <td>2011-08-04 13:50:40.606000128</td>\n",
       "    </tr>\n",
       "    <tr>\n",
       "      <th>2011-08-04 19:30:23.101</th>\n",
       "      <td>2011-08-04 20:01:48.966000128</td>\n",
       "    </tr>\n",
       "    <tr>\n",
       "      <th>2011-08-04 19:59:41.879</th>\n",
       "      <td>2011-08-05 12:30:19.803000064</td>\n",
       "    </tr>\n",
       "    <tr>\n",
       "      <th>2011-08-05 12:30:19.803</th>\n",
       "      <td>2011-08-05 13:51:55.448999936</td>\n",
       "    </tr>\n",
       "    <tr>\n",
       "      <th>...</th>\n",
       "      <td>...</td>\n",
       "    </tr>\n",
       "    <tr>\n",
       "      <th>2012-06-10 22:00:00.149</th>\n",
       "      <td>2012-06-11 14:00:08.657999872</td>\n",
       "    </tr>\n",
       "    <tr>\n",
       "      <th>2012-06-11 13:41:07.758</th>\n",
       "      <td>2012-06-11 19:10:45.499000064</td>\n",
       "    </tr>\n",
       "    <tr>\n",
       "      <th>2012-06-29 12:37:47.020</th>\n",
       "      <td>2012-07-02 02:39:19.100999936</td>\n",
       "    </tr>\n",
       "    <tr>\n",
       "      <th>2012-06-29 19:59:53.768</th>\n",
       "      <td>2012-07-02 02:39:19.100999936</td>\n",
       "    </tr>\n",
       "    <tr>\n",
       "      <th>2012-07-03 14:01:45.765</th>\n",
       "      <td>2012-07-05 06:25:06.504000000</td>\n",
       "    </tr>\n",
       "  </tbody>\n",
       "</table>\n",
       "<p>337 rows × 1 columns</p>\n",
       "</div>"
      ],
      "text/plain": [
       "                                                   t1\n",
       "2011-08-04 01:57:00.466 2011-08-04 10:27:24.326000128\n",
       "2011-08-04 09:53:01.844 2011-08-04 13:50:40.606000128\n",
       "2011-08-04 19:30:23.101 2011-08-04 20:01:48.966000128\n",
       "2011-08-04 19:59:41.879 2011-08-05 12:30:19.803000064\n",
       "2011-08-05 12:30:19.803 2011-08-05 13:51:55.448999936\n",
       "...                                               ...\n",
       "2012-06-10 22:00:00.149 2012-06-11 14:00:08.657999872\n",
       "2012-06-11 13:41:07.758 2012-06-11 19:10:45.499000064\n",
       "2012-06-29 12:37:47.020 2012-07-02 02:39:19.100999936\n",
       "2012-06-29 19:59:53.768 2012-07-02 02:39:19.100999936\n",
       "2012-07-03 14:01:45.765 2012-07-05 06:25:06.504000000\n",
       "\n",
       "[337 rows x 1 columns]"
      ]
     },
     "execution_count": 3,
     "metadata": {},
     "output_type": "execute_result"
    }
   ],
   "source": [
    "barrier_events = pd.read_csv('barrier_events.csv', index_col=0, parse_dates=[0,1])\n",
    "barrier_events"
   ]
  },
  {
   "cell_type": "markdown",
   "metadata": {},
   "source": [
    "---"
   ]
  },
  {
   "cell_type": "markdown",
   "metadata": {},
   "source": [
    "## Sample Uniqueness"
   ]
  },
  {
   "cell_type": "code",
   "execution_count": 4,
   "metadata": {},
   "outputs": [],
   "source": [
    "from mlfinlab.sampling.concurrent import get_av_uniqueness_from_triple_barrier, num_concurrent_events"
   ]
  },
  {
   "cell_type": "markdown",
   "metadata": {},
   "source": [
    "### Calculating average uniqueness of a label"
   ]
  },
  {
   "cell_type": "markdown",
   "metadata": {},
   "source": [
    "We need to have metrics for calculating the uniqueness of sample to use the data accordingly."
   ]
  },
  {
   "cell_type": "code",
   "execution_count": 5,
   "metadata": {},
   "outputs": [
    {
     "name": "stderr",
     "output_type": "stream",
     "text": [
      "2020-04-11 13:20:51.355499 100.0% num_concurrent_events done after 0.0 minutes. Remaining 0.0 minutes.\n",
      "2020-04-11 13:20:51.461217 100.0% _get_average_uniqueness done after 0.0 minutes. Remaining 0.0 minutes.\n"
     ]
    },
    {
     "data": {
      "text/html": [
       "<div>\n",
       "<style scoped>\n",
       "    .dataframe tbody tr th:only-of-type {\n",
       "        vertical-align: middle;\n",
       "    }\n",
       "\n",
       "    .dataframe tbody tr th {\n",
       "        vertical-align: top;\n",
       "    }\n",
       "\n",
       "    .dataframe thead th {\n",
       "        text-align: right;\n",
       "    }\n",
       "</style>\n",
       "<table border=\"1\" class=\"dataframe\">\n",
       "  <thead>\n",
       "    <tr style=\"text-align: right;\">\n",
       "      <th></th>\n",
       "      <th>tW</th>\n",
       "    </tr>\n",
       "  </thead>\n",
       "  <tbody>\n",
       "    <tr>\n",
       "      <th>2011-08-04 01:57:00.466</th>\n",
       "      <td>0.833333</td>\n",
       "    </tr>\n",
       "    <tr>\n",
       "      <th>2011-08-04 09:53:01.844</th>\n",
       "      <td>0.937500</td>\n",
       "    </tr>\n",
       "    <tr>\n",
       "      <th>2011-08-04 19:30:23.101</th>\n",
       "      <td>0.892857</td>\n",
       "    </tr>\n",
       "    <tr>\n",
       "      <th>2011-08-04 19:59:41.879</th>\n",
       "      <td>0.888889</td>\n",
       "    </tr>\n",
       "    <tr>\n",
       "      <th>2011-08-05 12:30:19.803</th>\n",
       "      <td>0.928571</td>\n",
       "    </tr>\n",
       "    <tr>\n",
       "      <th>...</th>\n",
       "      <td>...</td>\n",
       "    </tr>\n",
       "    <tr>\n",
       "      <th>2012-06-10 22:00:00.149</th>\n",
       "      <td>0.875000</td>\n",
       "    </tr>\n",
       "    <tr>\n",
       "      <th>2012-06-11 13:41:07.758</th>\n",
       "      <td>0.948276</td>\n",
       "    </tr>\n",
       "    <tr>\n",
       "      <th>2012-06-29 12:37:47.020</th>\n",
       "      <td>0.923077</td>\n",
       "    </tr>\n",
       "    <tr>\n",
       "      <th>2012-06-29 19:59:53.768</th>\n",
       "      <td>0.500000</td>\n",
       "    </tr>\n",
       "    <tr>\n",
       "      <th>2012-07-03 14:01:45.765</th>\n",
       "      <td>1.000000</td>\n",
       "    </tr>\n",
       "  </tbody>\n",
       "</table>\n",
       "<p>337 rows × 1 columns</p>\n",
       "</div>"
      ],
      "text/plain": [
       "                               tW\n",
       "2011-08-04 01:57:00.466  0.833333\n",
       "2011-08-04 09:53:01.844  0.937500\n",
       "2011-08-04 19:30:23.101  0.892857\n",
       "2011-08-04 19:59:41.879  0.888889\n",
       "2011-08-05 12:30:19.803  0.928571\n",
       "...                           ...\n",
       "2012-06-10 22:00:00.149  0.875000\n",
       "2012-06-11 13:41:07.758  0.948276\n",
       "2012-06-29 12:37:47.020  0.923077\n",
       "2012-06-29 19:59:53.768  0.500000\n",
       "2012-07-03 14:01:45.765  1.000000\n",
       "\n",
       "[337 rows x 1 columns]"
      ]
     },
     "execution_count": 5,
     "metadata": {},
     "output_type": "execute_result"
    }
   ],
   "source": [
    "av_unique = get_av_uniqueness_from_triple_barrier(barrier_events, dollar_bars.close, num_threads=3)\n",
    "av_unique"
   ]
  },
  {
   "cell_type": "markdown",
   "metadata": {},
   "source": [
    "### Computing the number of concurrent events"
   ]
  },
  {
   "cell_type": "code",
   "execution_count": 6,
   "metadata": {},
   "outputs": [
    {
     "data": {
      "text/plain": [
       "date_time\n",
       "2011-08-04 01:57:00.466    1\n",
       "2011-08-04 07:02:07.951    1\n",
       "2011-08-04 08:04:23.710    1\n",
       "2011-08-04 09:08:28.542    1\n",
       "2011-08-04 09:53:01.844    2\n",
       "                          ..\n",
       "2012-07-03 16:59:59.054    1\n",
       "2012-07-03 17:13:10.659    1\n",
       "2012-07-04 07:53:36.687    1\n",
       "2012-07-04 13:37:39.125    1\n",
       "2012-07-05 06:25:06.504    1\n",
       "Length: 9185, dtype: int64"
      ]
     },
     "execution_count": 6,
     "metadata": {},
     "output_type": "execute_result"
    }
   ],
   "source": [
    "num_conc_events = num_concurrent_events(close_series_index=dollar_bars.index,\n",
    "                                        label_endtime=barrier_events['t1'],\n",
    "                                        molecule=barrier_events.index\n",
    "                                       )\n",
    "num_conc_events"
   ]
  },
  {
   "cell_type": "code",
   "execution_count": 7,
   "metadata": {},
   "outputs": [
    {
     "data": {
      "text/plain": [
       "<matplotlib.axes._subplots.AxesSubplot at 0x7f0ba0cc7510>"
      ]
     },
     "execution_count": 7,
     "metadata": {},
     "output_type": "execute_result"
    },
    {
     "data": {
      "image/png": "[encoded data removed]",
      "text/plain": [
       "<Figure size 720x576 with 1 Axes>"
      ]
     },
     "metadata": {
      "needs_background": "light"
     },
     "output_type": "display_data"
    }
   ],
   "source": [
    "num_conc_events.hist(figsize=(10,8))"
   ]
  },
  {
   "cell_type": "markdown",
   "metadata": {},
   "source": [
    "---"
   ]
  },
  {
   "cell_type": "markdown",
   "metadata": {},
   "source": [
    "## Sequential Bootstrapping"
   ]
  },
  {
   "cell_type": "markdown",
   "metadata": {},
   "source": [
    "We know that most financial data is not independent and has a non-IID label issue. So we need to be careful in the bootstrapping process. In the bootstrapping procedure, we should not randomly select the next sample, but we should compare the samples we have already selected with the entire sample to adjust the sampling probability so that there are fewer overlapping samples. We call this _Sequential Bootstrap_. Through sequential bootstrap, we can maximize the uniqueness of subsamples and use them as training sets for the model such as random forests."
   ]
  },
  {
   "cell_type": "code",
   "execution_count": 8,
   "metadata": {},
   "outputs": [],
   "source": [
    "from mlfinlab.sampling.bootstrapping import get_ind_matrix, get_ind_mat_average_uniqueness, get_ind_mat_label_uniqueness\n",
    "from mlfinlab.sampling.bootstrapping import seq_bootstrap"
   ]
  },
  {
   "cell_type": "markdown",
   "metadata": {},
   "source": [
    "### Build an indicator matrix"
   ]
  },
  {
   "cell_type": "markdown",
   "metadata": {},
   "source": [
    "The indicator matrix is a binary matrix indicating what bars influence the label for each observation. It is a very useful structure for caculating uniqueness of samples and used in sequential bootstrapping"
   ]
  },
  {
   "cell_type": "markdown",
   "metadata": {},
   "source": [
    "we assume that the method ```get_ind_matrix``` is used for _triple barrier events_. So, index of series data which is used in the method should be the time when event is triggered and value of series should be the time when event is finished. Also, name of the series should be _'t1'_"
   ]
  },
  {
   "cell_type": "code",
   "execution_count": 9,
   "metadata": {},
   "outputs": [
    {
     "data": {
      "text/plain": [
       "2011-08-04 01:57:00.466   2011-08-04 10:27:24.326000128\n",
       "2011-08-04 09:53:01.844   2011-08-04 13:50:40.606000128\n",
       "2011-08-04 19:30:23.101   2011-08-04 20:01:48.966000128\n",
       "2011-08-04 19:59:41.879   2011-08-05 12:30:19.803000064\n",
       "2011-08-05 12:30:19.803   2011-08-05 13:51:55.448999936\n",
       "                                       ...             \n",
       "2012-06-10 22:00:00.149   2012-06-11 14:00:08.657999872\n",
       "2012-06-11 13:41:07.758   2012-06-11 19:10:45.499000064\n",
       "2012-06-29 12:37:47.020   2012-07-02 02:39:19.100999936\n",
       "2012-06-29 19:59:53.768   2012-07-02 02:39:19.100999936\n",
       "2012-07-03 14:01:45.765   2012-07-05 06:25:06.504000000\n",
       "Name: t1, Length: 337, dtype: datetime64[ns]"
      ]
     },
     "execution_count": 9,
     "metadata": {},
     "output_type": "execute_result"
    }
   ],
   "source": [
    "barrier_events_series = barrier_events['t1']\n",
    "barrier_events_series"
   ]
  },
  {
   "cell_type": "code",
   "execution_count": 10,
   "metadata": {},
   "outputs": [
    {
     "data": {
      "text/plain": [
       "'t1'"
      ]
     },
     "execution_count": 10,
     "metadata": {},
     "output_type": "execute_result"
    }
   ],
   "source": [
    "barrier_events['t1'].name"
   ]
  },
  {
   "cell_type": "code",
   "execution_count": 11,
   "metadata": {},
   "outputs": [
    {
     "data": {
      "text/plain": [
       "array([[1., 0., 0., ..., 0., 0., 0.],\n",
       "       [1., 0., 0., ..., 0., 0., 0.],\n",
       "       [1., 0., 0., ..., 0., 0., 0.],\n",
       "       ...,\n",
       "       [0., 0., 0., ..., 0., 0., 1.],\n",
       "       [0., 0., 0., ..., 0., 0., 1.],\n",
       "       [0., 0., 0., ..., 0., 0., 1.]])"
      ]
     },
     "execution_count": 11,
     "metadata": {},
     "output_type": "execute_result"
    }
   ],
   "source": [
    "triple_barrier_ind_mat = get_ind_matrix(barrier_events_series, dollar_bars)\n",
    "triple_barrier_ind_mat"
   ]
  },
  {
   "cell_type": "markdown",
   "metadata": {},
   "source": [
    "### Computing average uniqueness of indicator matrix"
   ]
  },
  {
   "cell_type": "markdown",
   "metadata": {},
   "source": [
    "we can get the average uniqueness of our samples."
   ]
  },
  {
   "cell_type": "code",
   "execution_count": 13,
   "metadata": {},
   "outputs": [
    {
     "data": {
      "text/plain": [
       "0.40972604246891847"
      ]
     },
     "execution_count": 13,
     "metadata": {},
     "output_type": "execute_result"
    }
   ],
   "source": [
    "np.seterr(divide='ignore')\n",
    "ind_mat_uniqueness = get_ind_mat_average_uniqueness(triple_barrier_ind_mat)\n",
    "ind_mat_uniqueness"
   ]
  },
  {
   "cell_type": "markdown",
   "metadata": {},
   "source": [
    "### Generate samples"
   ]
  },
  {
   "cell_type": "markdown",
   "metadata": {},
   "source": [
    "Here we generate 337 samples of the same size as the original sample. We take the first sample from the first sample to the fifth sample and draw the remaining 332 data through the bootstrap. We can confirm that the sequential bootstrap method can obtain a sample with higher specificity of the sample than the standard bootstap method."
   ]
  },
  {
   "cell_type": "code",
   "execution_count": 14,
   "metadata": {},
   "outputs": [
    {
     "data": {
      "text/plain": [
       "337"
      ]
     },
     "execution_count": 14,
     "metadata": {},
     "output_type": "execute_result"
    }
   ],
   "source": [
    "original_sample_length = triple_barrier_ind_mat.shape[1]\n",
    "original_sample_length"
   ]
  },
  {
   "cell_type": "code",
   "execution_count": 16,
   "metadata": {},
   "outputs": [
    {
     "name": "stdout",
     "output_type": "stream",
     "text": [
      "Standard uniqueness: 0.34732435795904515\n",
      "Sequential uniqueness: 0.3813139650049521\n"
     ]
    }
   ],
   "source": [
    "np.seterr(divide='ignore')\n",
    "samples = seq_bootstrap(ind_mat=triple_barrier_ind_mat,\n",
    "                        sample_length=original_sample_length,\n",
    "                        warmup_samples=[0, 1, 2, 3, 4, 5],\n",
    "                        compare=True\n",
    "                       )"
   ]
  },
  {
   "cell_type": "markdown",
   "metadata": {},
   "source": [
    "---"
   ]
  },
  {
   "cell_type": "markdown",
   "metadata": {},
   "source": [
    "## Sample Weights"
   ]
  },
  {
   "cell_type": "markdown",
   "metadata": {},
   "source": [
    "In addition to bringing bootstrap samples closer to the IID, we can give the model better information by considering the time and the size of return of the samples with uniqueness."
   ]
  },
  {
   "cell_type": "markdown",
   "metadata": {},
   "source": [
    "### Return attribution"
   ]
  },
  {
   "cell_type": "markdown",
   "metadata": {},
   "source": [
    "Labels with higher absolute returns may be considered more important than labels with lower absolute returns. Therefore, we can calculate the sample weight by taking into account the absolute return with the uniqueness."
   ]
  },
  {
   "cell_type": "code",
   "execution_count": 17,
   "metadata": {},
   "outputs": [],
   "source": [
    "from mlfinlab.sample_weights import get_weights_by_return\n",
    "from mlfinlab.sample_weights import get_weights_by_time_decay"
   ]
  },
  {
   "cell_type": "code",
   "execution_count": 18,
   "metadata": {},
   "outputs": [
    {
     "name": "stderr",
     "output_type": "stream",
     "text": [
      "2020-04-11 13:21:14.789172 100.0% num_concurrent_events done after 0.0 minutes. Remaining 0.0 minutes.\n",
      "2020-04-11 13:21:14.941564 100.0% _apply_weight_by_return done after 0.0 minutes. Remaining 0.0 minutes.\n"
     ]
    },
    {
     "data": {
      "text/plain": [
       "2011-08-04 01:57:00.466    1.311463\n",
       "2011-08-04 09:53:01.844    2.197941\n",
       "2011-08-04 19:30:23.101    2.289995\n",
       "2011-08-04 19:59:41.879    1.648158\n",
       "2011-08-05 12:30:19.803    0.324506\n",
       "                             ...   \n",
       "2012-06-10 22:00:00.149    0.807211\n",
       "2012-06-11 13:41:07.758    2.280080\n",
       "2012-06-29 12:37:47.020    2.003358\n",
       "2012-06-29 19:59:53.768    0.201167\n",
       "2012-07-03 14:01:45.765    0.327673\n",
       "Length: 337, dtype: float64"
      ]
     },
     "execution_count": 18,
     "metadata": {},
     "output_type": "execute_result"
    }
   ],
   "source": [
    "sample_weights_by_return = get_weights_by_return(barrier_events,\n",
    "                                                 dollar_bars['close']\n",
    "                                                )\n",
    "sample_weights_by_return"
   ]
  },
  {
   "cell_type": "markdown",
   "metadata": {},
   "source": [
    "### Time decay"
   ]
  },
  {
   "cell_type": "markdown",
   "metadata": {},
   "source": [
    "As markets evolve, recent observations may be more important than old ones. We can reflect that parts into the sample weight through the _decay_ parameter."
   ]
  },
  {
   "cell_type": "markdown",
   "metadata": {},
   "source": [
    "- $dacay=1:$ There  is no time decay.\n",
    "- $0<dacay<1:$ weights decay linearly over time, but every observation but every observation still receives a strictly positive weight, regardless of how old\n",
    "- $decay=0:$ means that weights converge linearly to zero, as they become older\n",
    "- $decay<0:$ means that the oldes portion c of the observations receive zero weight (i.e they are erased from memory)\n",
    "    "
   ]
  },
  {
   "cell_type": "code",
   "execution_count": 19,
   "metadata": {},
   "outputs": [
    {
     "name": "stderr",
     "output_type": "stream",
     "text": [
      "2020-04-11 13:21:16.659131 100.0% num_concurrent_events done after 0.0 minutes. Remaining 0.0 minutes.\n",
      "2020-04-11 13:21:16.790568 100.0% _get_average_uniqueness done after 0.0 minutes. Remaining 0.0 minutes.\n"
     ]
    },
    {
     "data": {
      "text/plain": [
       "2011-08-04 01:57:00.466    1.0\n",
       "2011-08-04 09:53:01.844    1.0\n",
       "2011-08-04 19:30:23.101    1.0\n",
       "2011-08-04 19:59:41.879    1.0\n",
       "2011-08-05 12:30:19.803    1.0\n",
       "                          ... \n",
       "2012-06-10 22:00:00.149    1.0\n",
       "2012-06-11 13:41:07.758    1.0\n",
       "2012-06-29 12:37:47.020    1.0\n",
       "2012-06-29 19:59:53.768    1.0\n",
       "2012-07-03 14:01:45.765    1.0\n",
       "Name: tW, Length: 337, dtype: float64"
      ]
     },
     "execution_count": 19,
     "metadata": {},
     "output_type": "execute_result"
    }
   ],
   "source": [
    "sample_weights_by_time = get_weights_by_time_decay(barrier_events,\n",
    "                                                   dollar_bars['close'],\n",
    "                                                   decay=1\n",
    "                                                  )\n",
    "sample_weights_by_time"
   ]
  },
  {
   "cell_type": "code",
   "execution_count": 20,
   "metadata": {},
   "outputs": [
    {
     "name": "stderr",
     "output_type": "stream",
     "text": [
      "2020-04-11 13:21:17.335198 100.0% num_concurrent_events done after 0.0 minutes. Remaining 0.0 minutes.\n",
      "2020-04-11 13:21:17.491370 100.0% _get_average_uniqueness done after 0.0 minutes. Remaining 0.0 minutes.\n",
      "2020-04-11 13:21:17.683520 100.0% num_concurrent_events done after 0.0 minutes. Remaining 0.0 minutes.\n",
      "2020-04-11 13:21:17.863559 100.0% _get_average_uniqueness done after 0.0 minutes. Remaining 0.0 minutes.\n",
      "2020-04-11 13:21:18.037567 100.0% num_concurrent_events done after 0.0 minutes. Remaining 0.0 minutes.\n",
      "2020-04-11 13:21:18.234941 100.0% _get_average_uniqueness done after 0.0 minutes. Remaining 0.0 minutes.\n",
      "2020-04-11 13:21:18.445557 100.0% num_concurrent_events done after 0.0 minutes. Remaining 0.0 minutes.\n",
      "2020-04-11 13:21:18.608688 100.0% _get_average_uniqueness done after 0.0 minutes. Remaining 0.0 minutes.\n"
     ]
    }
   ],
   "source": [
    "sample_weights = pd.DataFrame()\n",
    "decay_list = [-0.5, 0, 0.5, 1]\n",
    "for c in decay_list:\n",
    "    sample_weights[str(c)] = get_weights_by_time_decay(barrier_events,\n",
    "                                                       dollar_bars['close'],\n",
    "                                                       decay=c\n",
    "                                                      )"
   ]
  },
  {
   "cell_type": "code",
   "execution_count": 21,
   "metadata": {},
   "outputs": [
    {
     "data": {
      "text/plain": [
       "<matplotlib.axes._subplots.AxesSubplot at 0x7f0b7f59ad50>"
      ]
     },
     "execution_count": 21,
     "metadata": {},
     "output_type": "execute_result"
    },
    {
     "data": {
      "image/png": "[encoded data removed]",
      "text/plain": [
       "<Figure size 720x576 with 1 Axes>"
      ]
     },
     "metadata": {
      "needs_background": "light"
     },
     "output_type": "display_data"
    }
   ],
   "source": [
    "sample_weights.plot(figsize=(10,8), title='Sample weight change with time-decay factor')"
   ]
  }
 ],
 "metadata": {
  "kernelspec": {
   "display_name": "Python 3",
   "language": "python",
   "name": "python3"
  },
  "language_info": {
   "codemirror_mode": {
    "name": "ipython",
    "version": 3
   },
   "file_extension": ".py",
   "mimetype": "text/x-python",
   "name": "python",
   "nbconvert_exporter": "python",
   "pygments_lexer": "ipython3",
   "version": "3.7.3"
  }
 },
 "nbformat": 4,
 "nbformat_minor": 4
}
