{
 "cells": [
  {
   "cell_type": "markdown",
   "metadata": {},
   "source": [
    "# Label financial data"
   ]
  },
  {
   "cell_type": "markdown",
   "metadata": {},
   "source": [
    "It is not enough to simply compare the target rate of return with a fixed size of the threshold when creating labels for the model from financial data. In the real trading environment, the model should be made considering three barriers. We call them Triple-Barrier which is defined by profit-taking, stop-loss limit, and expiration limit."
   ]
  },
  {
   "cell_type": "code",
   "execution_count": 1,
   "metadata": {},
   "outputs": [
    {
     "name": "stdout",
     "output_type": "stream",
     "text": []
    }
   ],
   "source": [
    "import mlfinlab as ml\n",
    "\n",
    "import numpy as np\n",
    "import pandas as pd"
   ]
  },
  {
   "cell_type": "code",
   "execution_count": 2,
   "metadata": {},
   "outputs": [
    {
     "data": {
      "text/html": [
       "<div>\n",
       "<style scoped>\n",
       "    .dataframe tbody tr th:only-of-type {\n",
       "        vertical-align: middle;\n",
       "    }\n",
       "\n",
       "    .dataframe tbody tr th {\n",
       "        vertical-align: top;\n",
       "    }\n",
       "\n",
       "    .dataframe thead th {\n",
       "        text-align: right;\n",
       "    }\n",
       "</style>\n",
       "<table border=\"1\" class=\"dataframe\">\n",
       "  <thead>\n",
       "    <tr style=\"text-align: right;\">\n",
       "      <th></th>\n",
       "      <th>open</th>\n",
       "      <th>high</th>\n",
       "      <th>low</th>\n",
       "      <th>close</th>\n",
       "      <th>cum_vol</th>\n",
       "      <th>cum_dollar</th>\n",
       "      <th>cum_ticks</th>\n",
       "    </tr>\n",
       "    <tr>\n",
       "      <th>date_time</th>\n",
       "      <th></th>\n",
       "      <th></th>\n",
       "      <th></th>\n",
       "      <th></th>\n",
       "      <th></th>\n",
       "      <th></th>\n",
       "      <th></th>\n",
       "    </tr>\n",
       "  </thead>\n",
       "  <tbody>\n",
       "    <tr>\n",
       "      <th>2011-07-31 23:31:58.810</th>\n",
       "      <td>1306.00</td>\n",
       "      <td>1308.75</td>\n",
       "      <td>1301.75</td>\n",
       "      <td>1305.75</td>\n",
       "      <td>53658</td>\n",
       "      <td>70035704.75</td>\n",
       "      <td>14115</td>\n",
       "    </tr>\n",
       "    <tr>\n",
       "      <th>2011-08-01 02:55:17.443</th>\n",
       "      <td>1305.75</td>\n",
       "      <td>1309.50</td>\n",
       "      <td>1304.00</td>\n",
       "      <td>1306.50</td>\n",
       "      <td>53552</td>\n",
       "      <td>70006277.00</td>\n",
       "      <td>15422</td>\n",
       "    </tr>\n",
       "    <tr>\n",
       "      <th>2011-08-01 07:25:56.319</th>\n",
       "      <td>1306.75</td>\n",
       "      <td>1309.75</td>\n",
       "      <td>1304.75</td>\n",
       "      <td>1305.00</td>\n",
       "      <td>53543</td>\n",
       "      <td>70000901.00</td>\n",
       "      <td>14727</td>\n",
       "    </tr>\n",
       "    <tr>\n",
       "      <th>2011-08-01 08:33:10.903</th>\n",
       "      <td>1305.00</td>\n",
       "      <td>1305.00</td>\n",
       "      <td>1299.00</td>\n",
       "      <td>1300.00</td>\n",
       "      <td>53830</td>\n",
       "      <td>70094217.75</td>\n",
       "      <td>14987</td>\n",
       "    </tr>\n",
       "    <tr>\n",
       "      <th>2011-08-01 10:51:41.842</th>\n",
       "      <td>1300.00</td>\n",
       "      <td>1307.75</td>\n",
       "      <td>1299.00</td>\n",
       "      <td>1307.75</td>\n",
       "      <td>53734</td>\n",
       "      <td>70033006.25</td>\n",
       "      <td>14499</td>\n",
       "    </tr>\n",
       "    <tr>\n",
       "      <th>...</th>\n",
       "      <td>...</td>\n",
       "      <td>...</td>\n",
       "      <td>...</td>\n",
       "      <td>...</td>\n",
       "      <td>...</td>\n",
       "      <td>...</td>\n",
       "      <td>...</td>\n",
       "    </tr>\n",
       "    <tr>\n",
       "      <th>2012-07-30 12:30:28.642</th>\n",
       "      <td>1379.25</td>\n",
       "      <td>1380.00</td>\n",
       "      <td>1377.50</td>\n",
       "      <td>1377.75</td>\n",
       "      <td>50843</td>\n",
       "      <td>70116589.50</td>\n",
       "      <td>17923</td>\n",
       "    </tr>\n",
       "    <tr>\n",
       "      <th>2012-07-30 13:29:21.258</th>\n",
       "      <td>1377.75</td>\n",
       "      <td>1380.00</td>\n",
       "      <td>1377.00</td>\n",
       "      <td>1379.25</td>\n",
       "      <td>50782</td>\n",
       "      <td>70014483.25</td>\n",
       "      <td>14040</td>\n",
       "    </tr>\n",
       "    <tr>\n",
       "      <th>2012-07-30 13:35:05.407</th>\n",
       "      <td>1379.25</td>\n",
       "      <td>1383.25</td>\n",
       "      <td>1379.00</td>\n",
       "      <td>1382.50</td>\n",
       "      <td>50675</td>\n",
       "      <td>70001889.25</td>\n",
       "      <td>12017</td>\n",
       "    </tr>\n",
       "    <tr>\n",
       "      <th>2012-07-30 13:43:43.711</th>\n",
       "      <td>1382.50</td>\n",
       "      <td>1383.25</td>\n",
       "      <td>1380.00</td>\n",
       "      <td>1381.00</td>\n",
       "      <td>50667</td>\n",
       "      <td>70002243.75</td>\n",
       "      <td>13904</td>\n",
       "    </tr>\n",
       "    <tr>\n",
       "      <th>2012-07-30 13:54:26.158</th>\n",
       "      <td>1380.75</td>\n",
       "      <td>1381.75</td>\n",
       "      <td>1379.75</td>\n",
       "      <td>1380.75</td>\n",
       "      <td>50698</td>\n",
       "      <td>70007575.25</td>\n",
       "      <td>12706</td>\n",
       "    </tr>\n",
       "  </tbody>\n",
       "</table>\n",
       "<p>10000 rows × 7 columns</p>\n",
       "</div>"
      ],
      "text/plain": [
       "                            open     high      low    close  cum_vol  \\\n",
       "date_time                                                              \n",
       "2011-07-31 23:31:58.810  1306.00  1308.75  1301.75  1305.75    53658   \n",
       "2011-08-01 02:55:17.443  1305.75  1309.50  1304.00  1306.50    53552   \n",
       "2011-08-01 07:25:56.319  1306.75  1309.75  1304.75  1305.00    53543   \n",
       "2011-08-01 08:33:10.903  1305.00  1305.00  1299.00  1300.00    53830   \n",
       "2011-08-01 10:51:41.842  1300.00  1307.75  1299.00  1307.75    53734   \n",
       "...                          ...      ...      ...      ...      ...   \n",
       "2012-07-30 12:30:28.642  1379.25  1380.00  1377.50  1377.75    50843   \n",
       "2012-07-30 13:29:21.258  1377.75  1380.00  1377.00  1379.25    50782   \n",
       "2012-07-30 13:35:05.407  1379.25  1383.25  1379.00  1382.50    50675   \n",
       "2012-07-30 13:43:43.711  1382.50  1383.25  1380.00  1381.00    50667   \n",
       "2012-07-30 13:54:26.158  1380.75  1381.75  1379.75  1380.75    50698   \n",
       "\n",
       "                          cum_dollar  cum_ticks  \n",
       "date_time                                        \n",
       "2011-07-31 23:31:58.810  70035704.75      14115  \n",
       "2011-08-01 02:55:17.443  70006277.00      15422  \n",
       "2011-08-01 07:25:56.319  70000901.00      14727  \n",
       "2011-08-01 08:33:10.903  70094217.75      14987  \n",
       "2011-08-01 10:51:41.842  70033006.25      14499  \n",
       "...                              ...        ...  \n",
       "2012-07-30 12:30:28.642  70116589.50      17923  \n",
       "2012-07-30 13:29:21.258  70014483.25      14040  \n",
       "2012-07-30 13:35:05.407  70001889.25      12017  \n",
       "2012-07-30 13:43:43.711  70002243.75      13904  \n",
       "2012-07-30 13:54:26.158  70007575.25      12706  \n",
       "\n",
       "[10000 rows x 7 columns]"
      ]
     },
     "execution_count": 2,
     "metadata": {},
     "output_type": "execute_result"
    }
   ],
   "source": [
    "dollar_bars = pd.read_csv('sample_dollar_bars.csv', nrows=40000)\n",
    "dollar_bars"
   ]
  },
  {
   "cell_type": "markdown",
   "metadata": {},
   "source": [
    "## Sample the events"
   ]
  },
  {
   "cell_type": "markdown",
   "metadata": {},
   "source": [
    "Sample the events through the CUSUM filter. Threshold uses the average of estimated volatility in the market."
   ]
  },
  {
   "cell_type": "code",
   "execution_count": 4,
   "metadata": {},
   "outputs": [
    {
     "data": {
      "text/plain": [
       "DatetimeIndex(['2011-08-01 13:46:23.650000', '2011-08-01 14:03:22.782000',\n",
       "               '2011-08-01 15:38:23.090000', '2011-08-01 19:25:42.891000',\n",
       "               '2011-08-02 12:27:07.195000', '2011-08-02 16:48:53.474000',\n",
       "               '2011-08-02 19:42:30.586000', '2011-08-03 14:23:36.205000',\n",
       "               '2011-08-03 15:13:42.802000', '2011-08-03 17:43:21.280000',\n",
       "               ...\n",
       "               '2012-07-23 07:04:48.948000', '2012-07-23 13:12:31.459000',\n",
       "               '2012-07-23 19:24:55.447000', '2012-07-24 14:48:20.985000',\n",
       "               '2012-07-24 16:28:02.366000', '2012-07-25 11:39:30.331000',\n",
       "               '2012-07-26 10:24:12.595000', '2012-07-26 12:41:28.312000',\n",
       "               '2012-07-27 12:30:12.984000', '2012-07-27 16:33:45.042000'],\n",
       "              dtype='datetime64[ns]', length=667, freq=None)"
      ]
     },
     "execution_count": 4,
     "metadata": {},
     "output_type": "execute_result"
    }
   ],
   "source": [
    "vol = ml.util.get_daily_vol(close=data['close'], lookback=50)\n",
    "cusum_events = ml.filters.cusum_filter(data['close'], threshold=vol.mean())\n",
    "cusum_events"
   ]
  },
  {
   "cell_type": "markdown",
   "metadata": {},
   "source": [
    "## Compute vertical barrier"
   ]
  },
  {
   "cell_type": "markdown",
   "metadata": {},
   "source": [
    "Find the timestamp of one day after the event."
   ]
  },
  {
   "cell_type": "code",
   "execution_count": 5,
   "metadata": {},
   "outputs": [
    {
     "data": {
      "text/plain": [
       "2011-08-01 13:46:23.650   2011-08-02 13:50:40.053\n",
       "2011-08-01 14:03:22.782   2011-08-02 14:04:29.869\n",
       "2011-08-01 15:38:23.090   2011-08-02 15:49:00.114\n",
       "2011-08-01 19:25:42.891   2011-08-02 19:26:07.927\n",
       "2011-08-02 12:27:07.195   2011-08-03 13:07:43.154\n",
       "                                    ...          \n",
       "2012-07-25 11:39:30.331   2012-07-26 11:53:52.356\n",
       "2012-07-26 10:24:12.595   2012-07-27 11:37:04.490\n",
       "2012-07-26 12:41:28.312   2012-07-27 12:47:21.434\n",
       "2012-07-27 12:30:12.984   2012-07-30 06:13:28.136\n",
       "2012-07-27 16:33:45.042   2012-07-30 06:13:28.136\n",
       "Name: date_time, Length: 667, dtype: datetime64[ns]"
      ]
     },
     "execution_count": 5,
     "metadata": {},
     "output_type": "execute_result"
    }
   ],
   "source": [
    "# Compute vertical barrier\n",
    "vertical_barriers = ml.labeling.add_vertical_barrier(cusum_events,\n",
    "                                                     data['close'],\n",
    "                                                     num_days=1)\n",
    "vertical_barriers"
   ]
  },
  {
   "cell_type": "markdown",
   "metadata": {},
   "source": [
    "## Find the time of the first touch"
   ]
  },
  {
   "cell_type": "markdown",
   "metadata": {},
   "source": [
    "You can set the width of the horizontal barriers using the target and pt_sl parameters. If you use meta-labeling, you can pass the output of the primary model which indicates the side of the bet (long/short) to side_prediction."
   ]
  },
  {
   "cell_type": "code",
   "execution_count": 6,
   "metadata": {},
   "outputs": [],
   "source": [
    "triple_barrier_events = ml.labeling.get_events(close=data['close'],\n",
    "                                               t_events=cusum_events,\n",
    "                                               pt_sl=[1, 1],\n",
    "                                               target=vol,\n",
    "                                               min_ret=0.01,\n",
    "                                               num_threads=1,\n",
    "                                               vertical_barrier_times=vertical_barriers,\n",
    "                                               side_prediction=None)"
   ]
  },
  {
   "cell_type": "markdown",
   "metadata": {},
   "source": [
    "The column _t1_ is the first timestamp to touch the barrier."
   ]
  },
  {
   "cell_type": "code",
   "execution_count": 7,
   "metadata": {},
   "outputs": [
    {
     "data": {
      "text/html": [
       "<div>\n",
       "<style scoped>\n",
       "    .dataframe tbody tr th:only-of-type {\n",
       "        vertical-align: middle;\n",
       "    }\n",
       "\n",
       "    .dataframe tbody tr th {\n",
       "        vertical-align: top;\n",
       "    }\n",
       "\n",
       "    .dataframe thead th {\n",
       "        text-align: right;\n",
       "    }\n",
       "</style>\n",
       "<table border=\"1\" class=\"dataframe\">\n",
       "  <thead>\n",
       "    <tr style=\"text-align: right;\">\n",
       "      <th></th>\n",
       "      <th>t1</th>\n",
       "      <th>trgt</th>\n",
       "      <th>pt</th>\n",
       "      <th>sl</th>\n",
       "    </tr>\n",
       "  </thead>\n",
       "  <tbody>\n",
       "    <tr>\n",
       "      <th>2011-08-04 01:57:00.466</th>\n",
       "      <td>2011-08-04 10:27:24.326000128</td>\n",
       "      <td>0.011841</td>\n",
       "      <td>1</td>\n",
       "      <td>1</td>\n",
       "    </tr>\n",
       "    <tr>\n",
       "      <th>2011-08-04 09:53:01.844</th>\n",
       "      <td>2011-08-04 13:50:40.606000128</td>\n",
       "      <td>0.011918</td>\n",
       "      <td>1</td>\n",
       "      <td>1</td>\n",
       "    </tr>\n",
       "    <tr>\n",
       "      <th>2011-08-04 19:30:23.101</th>\n",
       "      <td>2011-08-04 20:01:48.966000128</td>\n",
       "      <td>0.010392</td>\n",
       "      <td>1</td>\n",
       "      <td>1</td>\n",
       "    </tr>\n",
       "    <tr>\n",
       "      <th>2011-08-04 19:59:41.879</th>\n",
       "      <td>2011-08-05 12:30:19.803000064</td>\n",
       "      <td>0.013613</td>\n",
       "      <td>1</td>\n",
       "      <td>1</td>\n",
       "    </tr>\n",
       "    <tr>\n",
       "      <th>2011-08-05 12:30:19.803</th>\n",
       "      <td>2011-08-05 13:51:55.448999936</td>\n",
       "      <td>0.013697</td>\n",
       "      <td>1</td>\n",
       "      <td>1</td>\n",
       "    </tr>\n",
       "    <tr>\n",
       "      <th>...</th>\n",
       "      <td>...</td>\n",
       "      <td>...</td>\n",
       "      <td>...</td>\n",
       "      <td>...</td>\n",
       "    </tr>\n",
       "    <tr>\n",
       "      <th>2012-06-10 22:00:00.149</th>\n",
       "      <td>2012-06-11 14:00:08.657999872</td>\n",
       "      <td>0.012076</td>\n",
       "      <td>1</td>\n",
       "      <td>1</td>\n",
       "    </tr>\n",
       "    <tr>\n",
       "      <th>2012-06-11 13:41:07.758</th>\n",
       "      <td>2012-06-11 19:10:45.499000064</td>\n",
       "      <td>0.010801</td>\n",
       "      <td>1</td>\n",
       "      <td>1</td>\n",
       "    </tr>\n",
       "    <tr>\n",
       "      <th>2012-06-29 12:37:47.020</th>\n",
       "      <td>2012-07-02 02:39:19.100999936</td>\n",
       "      <td>0.010435</td>\n",
       "      <td>1</td>\n",
       "      <td>1</td>\n",
       "    </tr>\n",
       "    <tr>\n",
       "      <th>2012-06-29 19:59:53.768</th>\n",
       "      <td>2012-07-02 02:39:19.100999936</td>\n",
       "      <td>0.012873</td>\n",
       "      <td>1</td>\n",
       "      <td>1</td>\n",
       "    </tr>\n",
       "    <tr>\n",
       "      <th>2012-07-03 14:01:45.765</th>\n",
       "      <td>2012-07-05 06:25:06.504000000</td>\n",
       "      <td>0.010735</td>\n",
       "      <td>1</td>\n",
       "      <td>1</td>\n",
       "    </tr>\n",
       "  </tbody>\n",
       "</table>\n",
       "<p>337 rows × 4 columns</p>\n",
       "</div>"
      ],
      "text/plain": [
       "                                                   t1      trgt  pt  sl\n",
       "2011-08-04 01:57:00.466 2011-08-04 10:27:24.326000128  0.011841   1   1\n",
       "2011-08-04 09:53:01.844 2011-08-04 13:50:40.606000128  0.011918   1   1\n",
       "2011-08-04 19:30:23.101 2011-08-04 20:01:48.966000128  0.010392   1   1\n",
       "2011-08-04 19:59:41.879 2011-08-05 12:30:19.803000064  0.013613   1   1\n",
       "2011-08-05 12:30:19.803 2011-08-05 13:51:55.448999936  0.013697   1   1\n",
       "...                                               ...       ...  ..  ..\n",
       "2012-06-10 22:00:00.149 2012-06-11 14:00:08.657999872  0.012076   1   1\n",
       "2012-06-11 13:41:07.758 2012-06-11 19:10:45.499000064  0.010801   1   1\n",
       "2012-06-29 12:37:47.020 2012-07-02 02:39:19.100999936  0.010435   1   1\n",
       "2012-06-29 19:59:53.768 2012-07-02 02:39:19.100999936  0.012873   1   1\n",
       "2012-07-03 14:01:45.765 2012-07-05 06:25:06.504000000  0.010735   1   1\n",
       "\n",
       "[337 rows x 4 columns]"
      ]
     },
     "execution_count": 7,
     "metadata": {},
     "output_type": "execute_result"
    }
   ],
   "source": [
    "triple_barrier_events"
   ]
  },
  {
   "cell_type": "markdown",
   "metadata": {},
   "source": [
    "## Label the observations"
   ]
  },
  {
   "cell_type": "markdown",
   "metadata": {},
   "source": [
    "The column _bin_ indicates which barrier was touched, and the return at the time is displayed in the column _ret_."
   ]
  },
  {
   "cell_type": "code",
   "execution_count": 8,
   "metadata": {},
   "outputs": [
    {
     "data": {
      "text/html": [
       "<div>\n",
       "<style scoped>\n",
       "    .dataframe tbody tr th:only-of-type {\n",
       "        vertical-align: middle;\n",
       "    }\n",
       "\n",
       "    .dataframe tbody tr th {\n",
       "        vertical-align: top;\n",
       "    }\n",
       "\n",
       "    .dataframe thead th {\n",
       "        text-align: right;\n",
       "    }\n",
       "</style>\n",
       "<table border=\"1\" class=\"dataframe\">\n",
       "  <thead>\n",
       "    <tr style=\"text-align: right;\">\n",
       "      <th></th>\n",
       "      <th>ret</th>\n",
       "      <th>trgt</th>\n",
       "      <th>bin</th>\n",
       "    </tr>\n",
       "  </thead>\n",
       "  <tbody>\n",
       "    <tr>\n",
       "      <th>2011-08-04 01:57:00.466</th>\n",
       "      <td>-0.012091</td>\n",
       "      <td>0.011841</td>\n",
       "      <td>-1</td>\n",
       "    </tr>\n",
       "    <tr>\n",
       "      <th>2011-08-04 09:53:01.844</th>\n",
       "      <td>-0.009812</td>\n",
       "      <td>0.011918</td>\n",
       "      <td>0</td>\n",
       "    </tr>\n",
       "    <tr>\n",
       "      <th>2011-08-04 19:30:23.101</th>\n",
       "      <td>-0.006425</td>\n",
       "      <td>0.010392</td>\n",
       "      <td>0</td>\n",
       "    </tr>\n",
       "    <tr>\n",
       "      <th>2011-08-04 19:59:41.879</th>\n",
       "      <td>0.016298</td>\n",
       "      <td>0.013613</td>\n",
       "      <td>1</td>\n",
       "    </tr>\n",
       "    <tr>\n",
       "      <th>2011-08-05 12:30:19.803</th>\n",
       "      <td>-0.015024</td>\n",
       "      <td>0.013697</td>\n",
       "      <td>-1</td>\n",
       "    </tr>\n",
       "    <tr>\n",
       "      <th>...</th>\n",
       "      <td>...</td>\n",
       "      <td>...</td>\n",
       "      <td>...</td>\n",
       "    </tr>\n",
       "    <tr>\n",
       "      <th>2012-06-10 22:00:00.149</th>\n",
       "      <td>-0.013089</td>\n",
       "      <td>0.012076</td>\n",
       "      <td>-1</td>\n",
       "    </tr>\n",
       "    <tr>\n",
       "      <th>2012-06-11 13:41:07.758</th>\n",
       "      <td>-0.012651</td>\n",
       "      <td>0.010801</td>\n",
       "      <td>-1</td>\n",
       "    </tr>\n",
       "    <tr>\n",
       "      <th>2012-06-29 12:37:47.020</th>\n",
       "      <td>0.005572</td>\n",
       "      <td>0.010435</td>\n",
       "      <td>0</td>\n",
       "    </tr>\n",
       "    <tr>\n",
       "      <th>2012-06-29 19:59:53.768</th>\n",
       "      <td>-0.001844</td>\n",
       "      <td>0.012873</td>\n",
       "      <td>0</td>\n",
       "    </tr>\n",
       "    <tr>\n",
       "      <th>2012-07-03 14:01:45.765</th>\n",
       "      <td>0.000183</td>\n",
       "      <td>0.010735</td>\n",
       "      <td>0</td>\n",
       "    </tr>\n",
       "  </tbody>\n",
       "</table>\n",
       "<p>337 rows × 3 columns</p>\n",
       "</div>"
      ],
      "text/plain": [
       "                              ret      trgt  bin\n",
       "2011-08-04 01:57:00.466 -0.012091  0.011841   -1\n",
       "2011-08-04 09:53:01.844 -0.009812  0.011918    0\n",
       "2011-08-04 19:30:23.101 -0.006425  0.010392    0\n",
       "2011-08-04 19:59:41.879  0.016298  0.013613    1\n",
       "2011-08-05 12:30:19.803 -0.015024  0.013697   -1\n",
       "...                           ...       ...  ...\n",
       "2012-06-10 22:00:00.149 -0.013089  0.012076   -1\n",
       "2012-06-11 13:41:07.758 -0.012651  0.010801   -1\n",
       "2012-06-29 12:37:47.020  0.005572  0.010435    0\n",
       "2012-06-29 19:59:53.768 -0.001844  0.012873    0\n",
       "2012-07-03 14:01:45.765  0.000183  0.010735    0\n",
       "\n",
       "[337 rows x 3 columns]"
      ]
     },
     "execution_count": 8,
     "metadata": {},
     "output_type": "execute_result"
    }
   ],
   "source": [
    "labels = ml.labeling.get_bins(triple_barrier_events, data['close'])\n",
    "labels"
   ]
  },
  {
   "cell_type": "markdown",
   "metadata": {},
   "source": [
    "## Drop under-populated labels"
   ]
  },
  {
   "cell_type": "markdown",
   "metadata": {},
   "source": [
    "In some ML classifiers, performance can be improved by eliminating really rare cases. Because it can make the model focus on dealing with common cases. For example, you can drop labels if they account for less than 5% of the amount."
   ]
  },
  {
   "cell_type": "code",
   "execution_count": 9,
   "metadata": {},
   "outputs": [
    {
     "data": {
      "text/html": [
       "<div>\n",
       "<style scoped>\n",
       "    .dataframe tbody tr th:only-of-type {\n",
       "        vertical-align: middle;\n",
       "    }\n",
       "\n",
       "    .dataframe tbody tr th {\n",
       "        vertical-align: top;\n",
       "    }\n",
       "\n",
       "    .dataframe thead th {\n",
       "        text-align: right;\n",
       "    }\n",
       "</style>\n",
       "<table border=\"1\" class=\"dataframe\">\n",
       "  <thead>\n",
       "    <tr style=\"text-align: right;\">\n",
       "      <th></th>\n",
       "      <th>ret</th>\n",
       "      <th>trgt</th>\n",
       "      <th>bin</th>\n",
       "    </tr>\n",
       "  </thead>\n",
       "  <tbody>\n",
       "    <tr>\n",
       "      <th>2011-08-04 01:57:00.466</th>\n",
       "      <td>-0.012091</td>\n",
       "      <td>0.011841</td>\n",
       "      <td>-1</td>\n",
       "    </tr>\n",
       "    <tr>\n",
       "      <th>2011-08-04 09:53:01.844</th>\n",
       "      <td>-0.009812</td>\n",
       "      <td>0.011918</td>\n",
       "      <td>0</td>\n",
       "    </tr>\n",
       "    <tr>\n",
       "      <th>2011-08-04 19:30:23.101</th>\n",
       "      <td>-0.006425</td>\n",
       "      <td>0.010392</td>\n",
       "      <td>0</td>\n",
       "    </tr>\n",
       "    <tr>\n",
       "      <th>2011-08-04 19:59:41.879</th>\n",
       "      <td>0.016298</td>\n",
       "      <td>0.013613</td>\n",
       "      <td>1</td>\n",
       "    </tr>\n",
       "    <tr>\n",
       "      <th>2011-08-05 12:30:19.803</th>\n",
       "      <td>-0.015024</td>\n",
       "      <td>0.013697</td>\n",
       "      <td>-1</td>\n",
       "    </tr>\n",
       "    <tr>\n",
       "      <th>...</th>\n",
       "      <td>...</td>\n",
       "      <td>...</td>\n",
       "      <td>...</td>\n",
       "    </tr>\n",
       "    <tr>\n",
       "      <th>2012-06-10 22:00:00.149</th>\n",
       "      <td>-0.013089</td>\n",
       "      <td>0.012076</td>\n",
       "      <td>-1</td>\n",
       "    </tr>\n",
       "    <tr>\n",
       "      <th>2012-06-11 13:41:07.758</th>\n",
       "      <td>-0.012651</td>\n",
       "      <td>0.010801</td>\n",
       "      <td>-1</td>\n",
       "    </tr>\n",
       "    <tr>\n",
       "      <th>2012-06-29 12:37:47.020</th>\n",
       "      <td>0.005572</td>\n",
       "      <td>0.010435</td>\n",
       "      <td>0</td>\n",
       "    </tr>\n",
       "    <tr>\n",
       "      <th>2012-06-29 19:59:53.768</th>\n",
       "      <td>-0.001844</td>\n",
       "      <td>0.012873</td>\n",
       "      <td>0</td>\n",
       "    </tr>\n",
       "    <tr>\n",
       "      <th>2012-07-03 14:01:45.765</th>\n",
       "      <td>0.000183</td>\n",
       "      <td>0.010735</td>\n",
       "      <td>0</td>\n",
       "    </tr>\n",
       "  </tbody>\n",
       "</table>\n",
       "<p>337 rows × 3 columns</p>\n",
       "</div>"
      ],
      "text/plain": [
       "                              ret      trgt  bin\n",
       "2011-08-04 01:57:00.466 -0.012091  0.011841   -1\n",
       "2011-08-04 09:53:01.844 -0.009812  0.011918    0\n",
       "2011-08-04 19:30:23.101 -0.006425  0.010392    0\n",
       "2011-08-04 19:59:41.879  0.016298  0.013613    1\n",
       "2011-08-05 12:30:19.803 -0.015024  0.013697   -1\n",
       "...                           ...       ...  ...\n",
       "2012-06-10 22:00:00.149 -0.013089  0.012076   -1\n",
       "2012-06-11 13:41:07.758 -0.012651  0.010801   -1\n",
       "2012-06-29 12:37:47.020  0.005572  0.010435    0\n",
       "2012-06-29 19:59:53.768 -0.001844  0.012873    0\n",
       "2012-07-03 14:01:45.765  0.000183  0.010735    0\n",
       "\n",
       "[337 rows x 3 columns]"
      ]
     },
     "execution_count": 9,
     "metadata": {},
     "output_type": "execute_result"
    }
   ],
   "source": [
    "clean_labels = ml.labeling.drop_labels(labels, min_pct=0.05)\n",
    "clean_labels"
   ]
  },
  {
   "cell_type": "markdown",
   "metadata": {},
   "source": [
    "In this case, all labels account for more than 5%, so there is no need to remove them."
   ]
  },
  {
   "cell_type": "code",
   "execution_count": 10,
   "metadata": {},
   "outputs": [
    {
     "data": {
      "text/plain": [
       " 1    0.400593\n",
       " 0    0.326409\n",
       "-1    0.272997\n",
       "Name: bin, dtype: float64"
      ]
     },
     "execution_count": 10,
     "metadata": {},
     "output_type": "execute_result"
    }
   ],
   "source": [
    "clean_labels['bin'].value_counts(normalize=True)"
   ]
  }
 ],
 "metadata": {
  "kernelspec": {
   "display_name": "Python 3",
   "language": "python",
   "name": "python3"
  },
  "language_info": {
   "codemirror_mode": {
    "name": "ipython",
    "version": 3
   },
   "file_extension": ".py",
   "mimetype": "text/x-python",
   "name": "python",
   "nbconvert_exporter": "python",
   "pygments_lexer": "ipython3",
   "version": "3.7.3"
  }
 },
 "nbformat": 4,
 "nbformat_minor": 4
}
